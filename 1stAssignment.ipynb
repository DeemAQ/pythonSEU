{
 "cells": [
  {
   "cell_type": "code",
   "execution_count": 2,
   "metadata": {},
   "outputs": [
    {
     "name": "stdout",
     "output_type": "stream",
     "text": [
      "Enter your first name: Deem\n",
      "Enter your last name: Alqudaimi\n",
      "Hello Deem Alqudaimi\n",
      "Enter the first number: 1\n",
      "Enter the second number: 2.0\n",
      "3.0\n"
     ]
    }
   ],
   "source": [
    "fName = input(\"Enter your first name: \")\n",
    "lName = input(\"Enter your last name: \")\n",
    "print(\"Hello\", fName, lName)\n",
    "num1 = float(input(\"Enter the first number: \"))\n",
    "num2 = float(input(\"Enter the second number: \"))\n",
    "print(num1 + num2)"
   ]
  }
 ],
 "metadata": {
  "kernelspec": {
   "display_name": "Python 3",
   "language": "python",
   "name": "python3"
  },
  "language_info": {
   "codemirror_mode": {
    "name": "ipython",
    "version": 3
   },
   "file_extension": ".py",
   "mimetype": "text/x-python",
   "name": "python",
   "nbconvert_exporter": "python",
   "pygments_lexer": "ipython3",
   "version": "3.8.5"
  }
 },
 "nbformat": 4,
 "nbformat_minor": 4
}
