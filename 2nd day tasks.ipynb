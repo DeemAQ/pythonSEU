{
 "cells": [
  {
   "cell_type": "code",
   "execution_count": null,
   "metadata": {},
   "outputs": [],
   "source": [
    "# task1: Print the word PYTHON one hundred times without using loops\n",
    "print(\"Python\\n\" * 100)"
   ]
  },
  {
   "cell_type": "code",
   "execution_count": null,
   "metadata": {},
   "outputs": [],
   "source": [
    "\"\"\" task2: Guessing game (computer generate random number from 0 to 10,\n",
    "ask user the required number of trials,\n",
    "if the user enter 0, they the program generate random number of trials) \"\"\"\n",
    "import random as r\n",
    "trails = int(input(\"Enter how many times you want to play: \"))\n",
    "if trails <= 0:\n",
    "    trails = int(r.random()*10)\n",
    "counter = 0\n",
    "randNum = int(r.random()*10)\n",
    "while counter < trails:\n",
    "    guess = int(input(\"Enter your guess (between  0 and 10): \"))\n",
    "    if randNum == guess:\n",
    "        print(\"You Win!\")\n",
    "        break\n",
    "    else:\n",
    "        print(\"Try Again!\")\n",
    "    counter += 1\n",
    "    \n",
    "print(\"correct guess was\", randNum)\n"
   ]
  },
  {
   "cell_type": "code",
   "execution_count": null,
   "metadata": {},
   "outputs": [],
   "source": [
    "# task3: Draw two figures\n",
    "# First:\n",
    "import turtle as t\n",
    "t.speed(100)\n",
    "for i in range(60):\n",
    "    t.tilt(90)\n",
    "    for j in range(4):\n",
    "        t.forward(100)\n",
    "        t.right(90)\n",
    "    t.right(5)\n"
   ]
  },
  {
   "cell_type": "code",
   "execution_count": null,
   "metadata": {},
   "outputs": [],
   "source": [
    "# Second: Fibonacci spiral << incomplete\n",
    "import math\n",
    "import turtle as t\n",
    "t.speed(100)\n",
    "curr, prev = 1, 0\n",
    "t.right(0)\n",
    "for i in range(100):\n",
    "    factor = math.pi * curr * 0.5\n",
    "    # creates a square\n",
    "    for j in range(4):\n",
    "        t.forward(factor / 180)\n",
    "        t.left(90)\n",
    "    t.left(1)\n",
    "    tmp = prev\n",
    "    prev = curr\n",
    "    curr = prev + tmp\n",
    "    "
   ]
  },
  {
   "cell_type": "code",
   "execution_count": null,
   "metadata": {},
   "outputs": [],
   "source": []
  }
 ],
 "metadata": {
  "kernelspec": {
   "display_name": "Python 3",
   "language": "python",
   "name": "python3"
  },
  "language_info": {
   "codemirror_mode": {
    "name": "ipython",
    "version": 3
   },
   "file_extension": ".py",
   "mimetype": "text/x-python",
   "name": "python",
   "nbconvert_exporter": "python",
   "pygments_lexer": "ipython3",
   "version": "3.8.5"
  }
 },
 "nbformat": 4,
 "nbformat_minor": 4
}
