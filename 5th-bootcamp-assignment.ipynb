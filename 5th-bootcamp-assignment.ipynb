{
 "cells": [
  {
   "cell_type": "markdown",
   "metadata": {},
   "source": [
    "# Numpy Practice "
   ]
  },
  {
   "cell_type": "markdown",
   "metadata": {},
   "source": [
    "### Do The following :\n",
    "- Finish the practice\n",
    "- share it on your github account\n",
    "- notify me at m.kutbi@seu.edu.sa if you faced any difficulties or when you finish"
   ]
  },
  {
   "cell_type": "markdown",
   "metadata": {},
   "source": [
    "#### Write the code that will produce the requested output or action as you see on the following cell"
   ]
  },
  {
   "cell_type": "code",
   "execution_count": null,
   "metadata": {},
   "outputs": [],
   "source": [
    "## For example \n",
    "## to get the output Hello, Mohammed\n",
    "print(\"Hello, Mohammed\") ## TODO"
   ]
  },
  {
   "cell_type": "markdown",
   "metadata": {},
   "source": [
    "### import the package numpy and make the shortcut \"np\" for it. "
   ]
  },
  {
   "cell_type": "code",
   "execution_count": 6,
   "metadata": {},
   "outputs": [],
   "source": [
    "import numpy as np"
   ]
  },
  {
   "cell_type": "markdown",
   "metadata": {},
   "source": [
    "#### define a numpy array [1, 2, 3, 4, 5] and assign it to variable x "
   ]
  },
  {
   "cell_type": "code",
   "execution_count": 7,
   "metadata": {},
   "outputs": [],
   "source": [
    "x = np.array([1, 2, 3, 4, 5])"
   ]
  },
  {
   "cell_type": "markdown",
   "metadata": {},
   "source": [
    "### Print x "
   ]
  },
  {
   "cell_type": "code",
   "execution_count": 8,
   "metadata": {},
   "outputs": [
    {
     "name": "stdout",
     "output_type": "stream",
     "text": [
      "[1 2 3 4 5]\n"
     ]
    }
   ],
   "source": [
    "print(x)"
   ]
  },
  {
   "cell_type": "markdown",
   "metadata": {},
   "source": [
    "### Print the mean of x using numpy "
   ]
  },
  {
   "cell_type": "code",
   "execution_count": 9,
   "metadata": {},
   "outputs": [
    {
     "name": "stdout",
     "output_type": "stream",
     "text": [
      "3.0\n"
     ]
    }
   ],
   "source": [
    "print(np.mean(x))"
   ]
  },
  {
   "cell_type": "markdown",
   "metadata": {},
   "source": [
    "### Print the maximum number in array x"
   ]
  },
  {
   "cell_type": "code",
   "execution_count": 10,
   "metadata": {},
   "outputs": [
    {
     "name": "stdout",
     "output_type": "stream",
     "text": [
      "5\n"
     ]
    }
   ],
   "source": [
    "print(np.max(x))"
   ]
  },
  {
   "cell_type": "markdown",
   "metadata": {},
   "source": [
    "### Generate a random number between 35 and 40"
   ]
  },
  {
   "cell_type": "code",
   "execution_count": 34,
   "metadata": {},
   "outputs": [
    {
     "name": "stdout",
     "output_type": "stream",
     "text": [
      "37\n"
     ]
    }
   ],
   "source": [
    "rand_num = np.random.randint(35, 40)\n",
    "# print(rand_num)"
   ]
  },
  {
   "cell_type": "markdown",
   "metadata": {},
   "source": [
    "### generate a list (N) of 1000 numbers with random values between 100 and 150  "
   ]
  },
  {
   "cell_type": "code",
   "execution_count": 45,
   "metadata": {},
   "outputs": [
    {
     "name": "stdout",
     "output_type": "stream",
     "text": [
      "[141.11429858 142.0035018  125.21593457 119.68295552 124.51489863\n",
      " 124.71799067 114.07392778 107.27211632 142.08350995 100.99814967]\n"
     ]
    }
   ],
   "source": [
    "rand_list = np.random.random_sample(1000) * 50 + 100\n",
    "# print(rand_list)"
   ]
  },
  {
   "cell_type": "markdown",
   "metadata": {},
   "source": [
    "### get the mean, median, std, and variance of the list N "
   ]
  },
  {
   "cell_type": "code",
   "execution_count": 46,
   "metadata": {},
   "outputs": [
    {
     "name": "stdout",
     "output_type": "stream",
     "text": [
      "124.16772835035049 124.61644465227121 13.682424561214543 187.20874187332697\n"
     ]
    }
   ],
   "source": [
    "rand_list_mean = np.mean(rand_list)\n",
    "rand_list_median = np.median(rand_list)\n",
    "rand_list_std = np.std(rand_list)\n",
    "rand_list_var = np.var(rand_list)\n",
    "# print(rand_list_mean, rand_list_median, rand_list_std, rand_list_var)"
   ]
  },
  {
   "cell_type": "markdown",
   "metadata": {},
   "source": [
    "### generate a 2D array of size 3 x 4 of random numbers between 18-65 "
   ]
  },
  {
   "cell_type": "code",
   "execution_count": 52,
   "metadata": {},
   "outputs": [
    {
     "name": "stdout",
     "output_type": "stream",
     "text": [
      "[[53.85057065 52.44338738 61.29953125 58.31831579]\n",
      " [57.31052311 63.17719992 47.02414634 61.15413548]\n",
      " [56.05481094 54.37394627 60.85197149 51.62615305]]\n"
     ]
    }
   ],
   "source": [
    "rand_2D = np.random.rand(3, 4) * 18 + 47\n",
    "print(rand_2D)"
   ]
  },
  {
   "cell_type": "markdown",
   "metadata": {
    "collapsed": true
   },
   "source": [
    "### Get the mean for every columns N"
   ]
  },
  {
   "cell_type": "code",
   "execution_count": 64,
   "metadata": {},
   "outputs": [
    {
     "name": "stdout",
     "output_type": "stream",
     "text": [
      "[55.7386349  56.66484452 56.39188302 57.0328681 ]\n"
     ]
    }
   ],
   "source": [
    "print(np.mean(rand_2D,0))"
   ]
  },
  {
   "cell_type": "markdown",
   "metadata": {},
   "source": [
    "### Get the mean for every row of N \n"
   ]
  },
  {
   "cell_type": "code",
   "execution_count": 72,
   "metadata": {},
   "outputs": [
    {
     "name": "stdout",
     "output_type": "stream",
     "text": [
      "56.47795126549017\n",
      "57.16650121153451\n",
      "55.7267204361103\n"
     ]
    }
   ],
   "source": [
    "i = 0\n",
    "while i < 3:\n",
    "    print(np.mean(rand_2D[i]))\n",
    "    i+=1"
   ]
  },
  {
   "cell_type": "markdown",
   "metadata": {},
   "source": [
    "### Create the following 2D array (S) of students grade in a classroom\n",
    "- grades [coursework, midterm exam, final exam]\n",
    "- [20, 15, 40]\n",
    "- [25, 24, 35]\n",
    "- [21, 15, 25]"
   ]
  },
  {
   "cell_type": "code",
   "execution_count": 78,
   "metadata": {},
   "outputs": [],
   "source": [
    "s = np.array( [\n",
    "    [20, 15, 40],\n",
    "    [25, 24, 35],\n",
    "    [21, 15, 25]\n",
    "])\n"
   ]
  },
  {
   "cell_type": "markdown",
   "metadata": {},
   "source": [
    "### Get the sums of student grades in S"
   ]
  },
  {
   "cell_type": "code",
   "execution_count": 82,
   "metadata": {},
   "outputs": [],
   "source": [
    "sum_of_grades = sum(s)"
   ]
  },
  {
   "cell_type": "markdown",
   "metadata": {},
   "source": [
    "### Get the means of student grades in every activity (coursework, midterm exam, final exam) in S"
   ]
  },
  {
   "cell_type": "code",
   "execution_count": 84,
   "metadata": {},
   "outputs": [],
   "source": [
    "mean_of_grades = np.mean(s,0)\n"
   ]
  },
  {
   "cell_type": "markdown",
   "metadata": {},
   "source": [
    "### reshape S in a way that make the colums represent the students and rows represent the activity, as follow\n",
    "- [20, 25, 21] \n",
    "- [15, 24, 15]\n",
    "- [40, 35, 25]"
   ]
  },
  {
   "cell_type": "code",
   "execution_count": 86,
   "metadata": {},
   "outputs": [
    {
     "name": "stdout",
     "output_type": "stream",
     "text": [
      "[[20 25 21]\n",
      " [15 24 15]\n",
      " [40 35 25]]\n"
     ]
    }
   ],
   "source": [
    "np.transpose(s)"
   ]
  },
  {
   "cell_type": "markdown",
   "metadata": {},
   "source": [
    "# Pandas Practice "
   ]
  },
  {
   "cell_type": "markdown",
   "metadata": {},
   "source": [
    "### import the package pandas and make the shortcut \"pd\" for it. "
   ]
  },
  {
   "cell_type": "code",
   "execution_count": 93,
   "metadata": {},
   "outputs": [
    {
     "name": "stdout",
     "output_type": "stream",
     "text": [
      "Requirement already satisfied: pandas in c:\\users\\deema\\anaconda3\\envs\\seu\\lib\\site-packages (1.2.0)\n",
      "Requirement already satisfied: pytz>=2017.3 in c:\\users\\deema\\anaconda3\\envs\\seu\\lib\\site-packages (from pandas) (2020.5)\n",
      "Requirement already satisfied: numpy>=1.16.5 in c:\\users\\deema\\anaconda3\\envs\\seu\\lib\\site-packages (from pandas) (1.19.2)\n",
      "Requirement already satisfied: python-dateutil>=2.7.3 in c:\\users\\deema\\anaconda3\\envs\\seu\\lib\\site-packages (from pandas) (2.8.1)\n",
      "Requirement already satisfied: six>=1.5 in c:\\users\\deema\\anaconda3\\envs\\seu\\lib\\site-packages (from python-dateutil>=2.7.3->pandas) (1.15.0)\n"
     ]
    }
   ],
   "source": [
    "! pip install pandas"
   ]
  },
  {
   "cell_type": "code",
   "execution_count": 94,
   "metadata": {},
   "outputs": [],
   "source": [
    "import pandas as pd"
   ]
  },
  {
   "cell_type": "markdown",
   "metadata": {},
   "source": [
    "### create Series call it (Data) with the values 'a','b','d','u' and 'l'"
   ]
  },
  {
   "cell_type": "code",
   "execution_count": 99,
   "metadata": {},
   "outputs": [
    {
     "name": "stdout",
     "output_type": "stream",
     "text": [
      "0    a\n",
      "1    b\n",
      "2    d\n",
      "3    u\n",
      "4    i\n",
      "dtype: object\n"
     ]
    }
   ],
   "source": [
    "dataset = ['a', 'b', 'd', 'u', 'i']\n",
    "Data = pd.Series(dataset)\n",
    "# print(Data)"
   ]
  },
  {
   "cell_type": "markdown",
   "metadata": {},
   "source": [
    "### change index to 3,6,9,12, and 15 for (data) "
   ]
  },
  {
   "cell_type": "code",
   "execution_count": 104,
   "metadata": {},
   "outputs": [
    {
     "name": "stdout",
     "output_type": "stream",
     "text": [
      "3     a\n",
      "6     b\n",
      "9     d\n",
      "12    u\n",
      "15    i\n",
      "dtype: object\n"
     ]
    }
   ],
   "source": [
    "Data = pd.Series(dataset, index = [3, 6, 9, 12, 15])\n",
    "# print(Data)"
   ]
  },
  {
   "cell_type": "markdown",
   "metadata": {},
   "source": [
    "# change index to client1, client2, client3, client4 and client5 for (data) "
   ]
  },
  {
   "cell_type": "code",
   "execution_count": 105,
   "metadata": {},
   "outputs": [
    {
     "name": "stdout",
     "output_type": "stream",
     "text": [
      "client1    a\n",
      "client2    b\n",
      "client3    d\n",
      "client4    u\n",
      "client5    i\n",
      "dtype: object\n"
     ]
    }
   ],
   "source": [
    "Data = pd.Series(dataset, index = [\"client1\", \"client2\", \"client3\", \"client4\", \"client5\"])\n",
    "# print(Data)"
   ]
  },
  {
   "cell_type": "markdown",
   "metadata": {},
   "source": [
    "### create a dataframe (D) with the followin values\n",
    "- \tName -\tAge\n",
    "-   Ali\t -  55\n",
    "- \tAhmad -\t15\n",
    "- \tNora -\t40"
   ]
  },
  {
   "cell_type": "code",
   "execution_count": 107,
   "metadata": {},
   "outputs": [
    {
     "name": "stdout",
     "output_type": "stream",
     "text": [
      "    Name  Age\n",
      "0    Ali   55\n",
      "1  Ahmed   15\n",
      "2  Noura   40\n"
     ]
    }
   ],
   "source": [
    "D = pd.DataFrame([ [\"Ali\", 55] , [\"Ahmed\", 15] , [\"Noura\", 40] ], columns = [\"Name\", \"Age\"])\n",
    "print(D)"
   ]
  },
  {
   "cell_type": "markdown",
   "metadata": {},
   "source": [
    "### Get the means of ages of people in (D)"
   ]
  },
  {
   "cell_type": "code",
   "execution_count": 111,
   "metadata": {},
   "outputs": [
    {
     "name": "stdout",
     "output_type": "stream",
     "text": [
      "Age    36.666667\n",
      "dtype: float64\n"
     ]
    }
   ],
   "source": [
    "## TODO expected value is 36.66\n",
    "print(D.mean())"
   ]
  }
 ],
 "metadata": {
  "kernelspec": {
   "display_name": "Python 3",
   "language": "python",
   "name": "python3"
  },
  "language_info": {
   "codemirror_mode": {
    "name": "ipython",
    "version": 3
   },
   "file_extension": ".py",
   "mimetype": "text/x-python",
   "name": "python",
   "nbconvert_exporter": "python",
   "pygments_lexer": "ipython3",
   "version": "3.8.5"
  }
 },
 "nbformat": 4,
 "nbformat_minor": 1
}
